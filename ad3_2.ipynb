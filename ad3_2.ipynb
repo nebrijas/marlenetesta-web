{
 "cells": [
  {
   "cell_type": "code",
   "execution_count": 1,
   "metadata": {},
   "outputs": [],
   "source": [
    "import random"
   ]
  },
  {
   "cell_type": "code",
   "execution_count": 2,
   "metadata": {},
   "outputs": [
    {
     "name": "stdout",
     "output_type": "stream",
     "text": [
      "Juego del Calamar. Adivina el número secreto o morirás.\n",
      "Quiero saber quién eres. Escribe tu nombre.\n"
     ]
    },
    {
     "name": "stdin",
     "output_type": "stream",
     "text": [
      " \"Raul\"\n"
     ]
    },
    {
     "name": "stdout",
     "output_type": "stream",
     "text": [
      "('Jugador', 'Raul', ', tienes diez intentos para salvar tu vida. \\xc2\\xbfQuieres continuar? Responde si o no.')\n"
     ]
    },
    {
     "name": "stdin",
     "output_type": "stream",
     "text": [
      " \"no\"\n"
     ]
    },
    {
     "name": "stdout",
     "output_type": "stream",
     "text": [
      "Te jodiste. Igual debes continuar o morirás. Escribe tu primer intento.\n"
     ]
    },
    {
     "name": "stdin",
     "output_type": "stream",
     "text": [
      " 3\n"
     ]
    },
    {
     "name": "stdout",
     "output_type": "stream",
     "text": [
      "('Tu estimaci\\xc3\\xb3n es muy baja. Te quedan', 9, 'intentos')\n"
     ]
    },
    {
     "name": "stdin",
     "output_type": "stream",
     "text": [
      " 60\n"
     ]
    },
    {
     "name": "stdout",
     "output_type": "stream",
     "text": [
      "('Tu estimaci\\xc3\\xb3n es muy alta. Te quedan', 8, 'intentos')\n"
     ]
    },
    {
     "name": "stdin",
     "output_type": "stream",
     "text": [
      " 40\n"
     ]
    },
    {
     "name": "stdout",
     "output_type": "stream",
     "text": [
      "('Tu estimaci\\xc3\\xb3n es muy alta. Te quedan', 7, 'intentos')\n"
     ]
    },
    {
     "name": "stdin",
     "output_type": "stream",
     "text": [
      " 20\n"
     ]
    },
    {
     "name": "stdout",
     "output_type": "stream",
     "text": [
      "('Tu estimaci\\xc3\\xb3n es muy baja. Te quedan', 6, 'intentos')\n"
     ]
    },
    {
     "name": "stdin",
     "output_type": "stream",
     "text": [
      " 30\n"
     ]
    },
    {
     "name": "stdout",
     "output_type": "stream",
     "text": [
      "('Tu estimaci\\xc3\\xb3n es muy baja. Te quedan', 5, 'intentos')\n"
     ]
    },
    {
     "name": "stdin",
     "output_type": "stream",
     "text": [
      " 35\n"
     ]
    },
    {
     "name": "stdout",
     "output_type": "stream",
     "text": [
      "('Tu estimaci\\xc3\\xb3n es muy baja. Te quedan', 4, 'intentos')\n"
     ]
    },
    {
     "name": "stdin",
     "output_type": "stream",
     "text": [
      " 38\n"
     ]
    },
    {
     "name": "stdout",
     "output_type": "stream",
     "text": [
      "('Tu estimaci\\xc3\\xb3n es muy baja. Te quedan', 3, 'intentos')\n"
     ]
    },
    {
     "name": "stdin",
     "output_type": "stream",
     "text": [
      " 39\n"
     ]
    },
    {
     "name": "stdout",
     "output_type": "stream",
     "text": [
      "('\\xc2\\xa1Has adivinado el n\\xc3\\xbamero secreto en ', 8, 'intentos! Te salvaste')\n"
     ]
    }
   ],
   "source": [
    "intentosRealizados = 0\n",
    "numero = random.randint(1, 100)\n",
    "print(\"Juego del Calamar. Adivina el número secreto o morirás.\")\n",
    "print(\"Quiero saber quién eres. Escribe tu nombre.\")\n",
    "nombre = input()\n",
    "print(\"Jugador\", nombre, \",\" \" tienes diez intentos para salvar tu vida. ¿Quieres continuar? Responde si o no.\")\n",
    "resp = input ()\n",
    "while (resp == \"si\",\"no\"):\n",
    "  if (resp == \"si\"):\n",
    "   print(\"Muy bien. Eres valiente. Escribe tu primer intento\")\n",
    "  if (resp == \"no\"):\n",
    "    print(\"Te jodiste. Igual debes continuar o morirás. Escribe tu primer intento.\")\n",
    "  break\n",
    "while intentosRealizados < 10:\n",
    " estimacion = input()\n",
    " estimacion = int(estimacion) \n",
    " intentosRealizados = intentosRealizados + 1\n",
    " if estimacion < numero:\n",
    "  print(\"Tu estimación es muy baja. Te quedan\", 10-intentosRealizados, \"intentos\")\n",
    " if estimacion > numero:\n",
    "  print('Tu estimación es muy alta. Te quedan', 10-intentosRealizados,\"intentos\")\n",
    " if estimacion == numero:\n",
    "  break;\n",
    "if estimacion == numero:\n",
    " print('¡Has adivinado el número secreto en ' , intentosRealizados , 'intentos! Te salvaste')\n",
    "if estimacion != numero:\n",
    " print('El número era', numero,\"; Vas a morir.\")"
   ]
  },
  {
   "cell_type": "code",
   "execution_count": 3,
   "metadata": {},
   "outputs": [
    {
     "name": "stdout",
     "output_type": "stream",
     "text": [
      "Dame tu nombre\n"
     ]
    },
    {
     "name": "stdin",
     "output_type": "stream",
     "text": [
      " \"Pedro\"\n"
     ]
    },
    {
     "name": "stdout",
     "output_type": "stream",
     "text": [
      "Pedro, adivina el número que estoy pensando entre 1 y 100 en menos de 20 intentos\n",
      "Intenta adivinar\n"
     ]
    },
    {
     "name": "stdin",
     "output_type": "stream",
     "text": [
      " 50\n"
     ]
    },
    {
     "name": "stdout",
     "output_type": "stream",
     "text": [
      "Tu estimacion es muy alta\n",
      "Intenta adivinar\n"
     ]
    },
    {
     "name": "stdin",
     "output_type": "stream",
     "text": [
      " 25\n"
     ]
    },
    {
     "name": "stdout",
     "output_type": "stream",
     "text": [
      "Tu estimacion es muy alta\n",
      "Intenta adivinar\n"
     ]
    },
    {
     "name": "stdin",
     "output_type": "stream",
     "text": [
      " 15\n"
     ]
    },
    {
     "name": "stdout",
     "output_type": "stream",
     "text": [
      "Tu estimacion es muy alta\n",
      "Intenta adivinar\n"
     ]
    },
    {
     "name": "stdin",
     "output_type": "stream",
     "text": [
      " 10\n"
     ]
    },
    {
     "name": "stdout",
     "output_type": "stream",
     "text": [
      "Tu estimacion es muy baja\n",
      "Intenta adivinar\n"
     ]
    },
    {
     "name": "stdin",
     "output_type": "stream",
     "text": [
      " 13\n"
     ]
    },
    {
     "name": "stdout",
     "output_type": "stream",
     "text": [
      "Tu estimacion es muy alta\n",
      "Intenta adivinar\n"
     ]
    },
    {
     "name": "stdin",
     "output_type": "stream",
     "text": [
      " 12\n"
     ]
    },
    {
     "name": "stdout",
     "output_type": "stream",
     "text": [
      "Tu estimacion es muy alta\n",
      "Intenta adivinar\n"
     ]
    },
    {
     "name": "stdin",
     "output_type": "stream",
     "text": [
      " 11\n"
     ]
    },
    {
     "name": "stdout",
     "output_type": "stream",
     "text": [
      "Has adivinado mi numero en 7 intentos!\n",
      "¿Nueva partida? ([Si]/No)\n"
     ]
    },
    {
     "name": "stdin",
     "output_type": "stream",
     "text": [
      " \"No\"\n"
     ]
    },
    {
     "name": "stdout",
     "output_type": "stream",
     "text": [
      "Ranking:\n",
      "\n",
      "1. Pedro, 7 intentos\n"
     ]
    }
   ],
   "source": [
    "import random\n",
    "import os\n",
    "\n",
    "ganadores = []\n",
    "\n",
    "while True:\n",
    "    intentosRealizados = 0\n",
    "    numero = random.randint(1, 100)\n",
    "    #print(numero) #DEBUG\n",
    "\n",
    "    print ('Dame tu nombre')\n",
    "    nombre = input()\n",
    "    os.system('clear')\n",
    "\n",
    "    print(nombre + ', adivina el número que estoy pensando entre 1 y 100 en menos de 20 intentos')\n",
    "\n",
    "    while intentosRealizados < 20:\n",
    "        print('Intenta adivinar')\n",
    "        estimacion = input()\n",
    "        estimacion = int(estimacion)\n",
    "        intentosRealizados = intentosRealizados+1\n",
    "        if estimacion < numero:\n",
    "            print('Tu estimacion es muy baja')\n",
    "        if estimacion > numero:\n",
    "            print('Tu estimacion es muy alta')\n",
    "        if estimacion == numero:\n",
    "            break\n",
    "\n",
    "    if estimacion == numero:\n",
    "        if intentosRealizados < 20:\n",
    "            ganadores.append([intentosRealizados, nombre])\n",
    "        intentosRealizados = str(intentosRealizados)\n",
    "        print('Has adivinado mi numero en ' + intentosRealizados + ' intentos!')\n",
    "\n",
    "    if estimacion != numero:\n",
    "        print('Pues no. El número que estaba pensando era el ' + numero)\n",
    "    \n",
    "    print('¿Nueva partida? ([Si]/No)')\n",
    "    seguir = input()\n",
    "    seguir = seguir.lower()\n",
    "    os.system('clear')\n",
    "    if seguir == 'no':\n",
    "        break\n",
    "\n",
    "os.system('clear')\n",
    "print ('Ranking:\\n')\n",
    "ganadores.sort()\n",
    "\n",
    "for i in range(len(ganadores)):\n",
    "    pos = str(i + 1)\n",
    "    print (pos + '. ' + ganadores[i][1] + ', ' + str(ganadores[i][0]) + ' intentos')\n",
    "    "
   ]
  },
  {
   "cell_type": "code",
   "execution_count": null,
   "metadata": {},
   "outputs": [],
   "source": []
  }
 ],
 "metadata": {
  "kernelspec": {
   "display_name": "Python 2",
   "language": "python",
   "name": "python2"
  },
  "language_info": {
   "codemirror_mode": {
    "name": "ipython",
    "version": 2
   },
   "file_extension": ".py",
   "mimetype": "text/x-python",
   "name": "python",
   "nbconvert_exporter": "python",
   "pygments_lexer": "ipython2",
   "version": "2.7.18"
  }
 },
 "nbformat": 4,
 "nbformat_minor": 2
}
